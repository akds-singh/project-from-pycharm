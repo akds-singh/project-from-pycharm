{
 "cells": [
  {
   "cell_type": "code",
   "execution_count": 1,
   "metadata": {
    "collapsed": true
   },
   "outputs": [
    {
     "name": "stdout",
     "output_type": "stream",
     "text": [
      "{25, 75.25, 'Mark', 'Jessa'}\n",
      "{'Harry Potter', 'Angels and Demons', 'Atlas Shrugged'}\n",
      "<class 'set'>\n"
     ]
    }
   ],
   "source": [
    "# create a set using {}\n",
    "# set of mixed types intger, string, and floats\n",
    "sample_set = {'Mark', 'Jessa', 25, 75.25, 25}\n",
    "sample_list = list(sample_set)\n",
    "print(sample_set)\n",
    "# Output {25, 'Mark', 75.25, 'Jessa'}\n",
    "\n",
    "# create a set using set constructor\n",
    "# set of strings\n",
    "book_set = set((\"Harry Potter\", \"Angels and Demons\", \"Atlas Shrugged\"))\n",
    "print(book_set)\n",
    "# output {'Harry Potter', 'Atlas Shrugged', 'Angels and Demons'}\n",
    "\n",
    "print(type(book_set))\n",
    "# Output class 'set'"
   ]
  },
  {
   "cell_type": "code",
   "execution_count": 9,
   "outputs": [
    {
     "name": "stdout",
     "output_type": "stream",
     "text": [
      "1\n",
      "array('i', [2, 3])\n",
      "array('i', [2, 3, 8])\n"
     ]
    }
   ],
   "source": [
    "# creating an array containing same\n",
    "# data type elements\n",
    "import array\n",
    "\n",
    "sample_array = array.array('i', [1, 2, 3])\n",
    "\n",
    "# accessing elements of array\n",
    "print(sample_array[0])\n",
    "# for i in sample_array:\n",
    "# \tprint(i)\n",
    "sample_array.pop(0)\n",
    "print(sample_array)\n",
    "sample_array.append(8)\n",
    "print(sample_array)\n"
   ],
   "metadata": {
    "collapsed": false
   }
  },
  {
   "cell_type": "code",
   "execution_count": 12,
   "outputs": [
    {
     "name": "stdout",
     "output_type": "stream",
     "text": [
      "6\n"
     ]
    }
   ],
   "source": [
    "set1 = {1, 2, 3}\n",
    "set2 = {4, 5, 6}\n",
    "print(len(set1.union(set2)))\n"
   ],
   "metadata": {
    "collapsed": false
   }
  },
  {
   "cell_type": "code",
   "execution_count": null,
   "outputs": [],
   "source": [],
   "metadata": {
    "collapsed": false
   }
  },
  {
   "cell_type": "code",
   "execution_count": 3,
   "outputs": [
    {
     "name": "stdout",
     "output_type": "stream",
     "text": [
      "{'Blue', 'Orange', 'Yellow', 'Green', 'Red', 'Black'}\n"
     ]
    }
   ],
   "source": [
    "sample_set = {\"Yellow\", \"Orange\", \"Black\"}\n",
    "sample_list = [\"Blue\", \"Green\", \"Red\"]\n",
    "\n",
    "# for element in sample_list:\n",
    "#     sample_set.update(element)\n",
    "sample_set.update(sample_list)\n",
    "print(sample_set)"
   ],
   "metadata": {
    "collapsed": false
   }
  },
  {
   "cell_type": "code",
   "execution_count": 7,
   "outputs": [
    {
     "name": "stdout",
     "output_type": "stream",
     "text": [
      "{40, 50, 30}\n",
      "{70, 40, 10, 50, 20, 60, 30}\n"
     ]
    }
   ],
   "source": [
    "set1 = {10, 20, 30, 40, 50}\n",
    "set2 = {30, 40, 50, 60, 70}\n",
    "\n",
    "new_set = set1.intersection(set2)\n",
    "\n",
    "print(new_set)\n",
    "\n",
    "new_set1 = set1.union(set2)\n",
    "\n",
    "print(new_set1)"
   ],
   "metadata": {
    "collapsed": false
   }
  },
  {
   "cell_type": "code",
   "execution_count": 15,
   "outputs": [
    {
     "name": "stdout",
     "output_type": "stream",
     "text": [
      "{10, 30}\n",
      "None\n",
      "{10, 30}\n"
     ]
    }
   ],
   "source": [
    "set1 = {10, 20, 30}\n",
    "set2 = {20, 40, 50}\n",
    "\n",
    "new_set = set1 - set2\n",
    "print(new_set)\n",
    "\n",
    "new_set2 = set1.difference_update(set2)\n",
    "\n",
    "print(new_set2)\n",
    "print(set1)"
   ],
   "metadata": {
    "collapsed": false
   }
  },
  {
   "cell_type": "code",
   "execution_count": 19,
   "outputs": [
    {
     "name": "stdout",
     "output_type": "stream",
     "text": [
      "{50, 40}\n"
     ]
    }
   ],
   "source": [
    "set1 = {10, 20, 30, 40, 50}\n",
    "\n",
    "set1.difference_update({10,20,30})\n",
    "\n",
    "print(set1)"
   ],
   "metadata": {
    "collapsed": false
   }
  },
  {
   "cell_type": "code",
   "execution_count": 20,
   "outputs": [
    {
     "name": "stdout",
     "output_type": "stream",
     "text": [
      "{20, 70, 10, 60}\n"
     ]
    }
   ],
   "source": [
    "set1 = {10, 20, 30, 40, 50}\n",
    "set2 = {30, 40, 50, 60, 70}\n",
    "\n",
    "new_set = set1.symmetric_difference(set2)\n",
    "print(new_set)"
   ],
   "metadata": {
    "collapsed": false
   }
  },
  {
   "cell_type": "code",
   "execution_count": 24,
   "outputs": [
    {
     "name": "stdout",
     "output_type": "stream",
     "text": [
      "Sets have common element: {10}\n"
     ]
    }
   ],
   "source": [
    "set1 = {10, 20, 30, 40, 50}\n",
    "set2 = {60, 70, 80, 90, 10}\n",
    "\n",
    "if set1.intersection(set2):\n",
    "    print(f\"Sets have common element: {set1.intersection(set2)}\")\n",
    "else:\n",
    "    print(\"Sets does'nt have common element:\")"
   ],
   "metadata": {
    "collapsed": false
   }
  },
  {
   "cell_type": "code",
   "execution_count": 26,
   "outputs": [
    {
     "name": "stdout",
     "output_type": "stream",
     "text": [
      "Sets have common elements: {10}\n"
     ]
    }
   ],
   "source": [
    "if set1.isdisjoint(set2):\n",
    "    print(\"Dos't have common element:\")\n",
    "else:\n",
    "    print(f\"Sets have common elements: {set1.intersection(set2)}\")"
   ],
   "metadata": {
    "collapsed": false
   }
  },
  {
   "cell_type": "code",
   "execution_count": 27,
   "outputs": [
    {
     "name": "stdout",
     "output_type": "stream",
     "text": [
      "{20, 70, 10, 60}\n"
     ]
    }
   ],
   "source": [
    "set1 = {10, 20, 30, 40, 50}\n",
    "set2 = {30, 40, 50, 60, 70}\n",
    "\n",
    "set1.symmetric_difference_update(set2)\n",
    "\n",
    "print(set1)"
   ],
   "metadata": {
    "collapsed": false
   }
  },
  {
   "cell_type": "code",
   "execution_count": 28,
   "outputs": [
    {
     "name": "stdout",
     "output_type": "stream",
     "text": [
      "{40, 50, 30}\n"
     ]
    }
   ],
   "source": [
    "set1 = {10, 20, 30, 40, 50}\n",
    "set2 = {30, 40, 50, 60, 70}\n",
    "\n",
    "set1.intersection_update(set2)\n",
    "\n",
    "print(set1)"
   ],
   "metadata": {
    "collapsed": false
   }
  }
 ],
 "metadata": {
  "kernelspec": {
   "display_name": "Python 3",
   "language": "python",
   "name": "python3"
  },
  "language_info": {
   "codemirror_mode": {
    "name": "ipython",
    "version": 2
   },
   "file_extension": ".py",
   "mimetype": "text/x-python",
   "name": "python",
   "nbconvert_exporter": "python",
   "pygments_lexer": "ipython2",
   "version": "2.7.6"
  }
 },
 "nbformat": 4,
 "nbformat_minor": 0
}
